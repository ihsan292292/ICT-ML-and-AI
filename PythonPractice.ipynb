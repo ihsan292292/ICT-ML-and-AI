{
 "cells": [
  {
   "cell_type": "code",
   "execution_count": null,
   "metadata": {},
   "outputs": [],
   "source": [
    "x = 3\n",
    "if x>0:\n",
    "    print(\"It is positive number\")\n",
    "elif x<0:\n",
    "    print(\"It is negative number\")\n",
    "else:\n",
    "    print(\"number is zero\")"
   ]
  },
  {
   "cell_type": "code",
   "execution_count": 4,
   "metadata": {},
   "outputs": [
    {
     "name": "stdout",
     "output_type": "stream",
     "text": [
      "# # # #  \n",
      "# # # #  \n",
      "# # # #  \n",
      "# # # #  \n"
     ]
    }
   ],
   "source": [
    "i=1\n",
    "while i < 5:\n",
    "    print(\"#\",end=\" \")\n",
    "    j=1\n",
    "    while j<4:\n",
    "        print(\"#\",end=\" \")\n",
    "        j=j+1\n",
    "    i=i+1\n",
    "    print(\" \")"
   ]
  },
  {
   "cell_type": "code",
   "execution_count": 5,
   "metadata": {},
   "outputs": [
    {
     "name": "stdout",
     "output_type": "stream",
     "text": [
      "1\n",
      "4\n",
      "9\n",
      "16\n",
      "25\n",
      "36\n",
      "49\n",
      "64\n",
      "81\n"
     ]
    }
   ],
   "source": [
    "for i in range(1,10):\n",
    "    print(i*i)"
   ]
  }
 ],
 "metadata": {
  "kernelspec": {
   "display_name": "Python 3",
   "language": "python",
   "name": "python3"
  },
  "language_info": {
   "codemirror_mode": {
    "name": "ipython",
    "version": 3
   },
   "file_extension": ".py",
   "mimetype": "text/x-python",
   "name": "python",
   "nbconvert_exporter": "python",
   "pygments_lexer": "ipython3",
   "version": "3.11.1 (tags/v3.11.1:a7a450f, Dec  6 2022, 19:58:39) [MSC v.1934 64 bit (AMD64)]"
  },
  "orig_nbformat": 4,
  "vscode": {
   "interpreter": {
    "hash": "449c8e2da2d50645573d3a78189e38345b85096978a1b2c8f05bd0dfae3df97c"
   }
  }
 },
 "nbformat": 4,
 "nbformat_minor": 2
}
